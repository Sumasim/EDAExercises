{
 "cells": [
  {
   "cell_type": "code",
   "execution_count": 4,
   "id": "c18c6c3a-909e-4be2-bec6-fffe39a15f18",
   "metadata": {},
   "outputs": [],
   "source": [
    "# import the pandas library and use the alias 'pd'\n",
    "import pandas as pd"
   ]
  },
  {
   "cell_type": "code",
   "execution_count": 5,
   "id": "e31b74b5-2f8e-4126-bf65-be577a3e5b06",
   "metadata": {
    "tags": []
   },
   "outputs": [],
   "source": [
    "# create the s1 series from the list: [10,20,30,40,50]\n",
    "s1 = pd.Series([10,20,30,40,50])\n",
    "\n",
    "# additional practice\n",
    "# create a series called s_tuple from the tuple: (\"apple\", \"banana\", \"cherry\")\n",
    "s_tuple= (\"apple\", \"banana\", \"cherry\")\n",
    "s_tuple = pd.Series(s_tuple)\n",
    "\n",
    "# create a series called s_dictionary from the dictionary: {\"brand\": \"Ford\", \"model\": \"Mustang\", \"year\": 1964}\n",
    "s_dictionary = {\"brand\": \"Ford\", \"model\": \"Mustang\", \"year\": 1964}\n",
    "s_dictionary= pd.Series(s_dictionary)"
   ]
  },
  {
   "cell_type": "code",
   "execution_count": 6,
   "id": "76d730b9-fd65-4278-af53-22c1674005a9",
   "metadata": {
    "tags": []
   },
   "outputs": [
    {
     "name": "stdout",
     "output_type": "stream",
     "text": [
      "The s1 series values are: [10 20 30 40 50]\n",
      "The s1 index values are: [0 1 2 3 4]\n",
      "\n",
      "\n",
      "The s_tuple series values are: ['apple' 'banana' 'cherry']\n",
      "The s_tuple index values are: [0 1 2]\n",
      "\n",
      "\n",
      "The s_dictionary series values are: ['Ford' 'Mustang' 1964]\n",
      "The s_dictionary index values are: ['brand' 'model' 'year']\n"
     ]
    }
   ],
   "source": [
    "# fill in the blank with the series values and index values\n",
    "print(\"The s1 series values are:\", s1.values)\n",
    "print(\"The s1 index values are:\", s1.index.values)\n",
    "print(\"\\n\")\n",
    "print(\"The s_tuple series values are:\", s_tuple.values)\n",
    "print(\"The s_tuple index values are:\", s_tuple.index.values)\n",
    "print(\"\\n\")\n",
    "print(\"The s_dictionary series values are:\", s_dictionary.values)\n",
    "print(\"The s_dictionary index values are:\", s_dictionary.index.values)"
   ]
  },
  {
   "cell_type": "code",
   "execution_count": 19,
   "id": "f7794bcc-c9f0-4c21-80f5-c71258532c13",
   "metadata": {},
   "outputs": [],
   "source": [
    "# create the s2 series from the list [80,93,78,85,97] and with labeled indexes ['English','Science','Social','Tamil','Maths']\n",
    "s2 = pd.Series([80,93,78,85,97], index=['English','Science','Social','Tamil','Maths'])\n"
   ]
  },
  {
   "cell_type": "code",
   "execution_count": 20,
   "id": "5674059a-a773-4bc0-b6f1-94ff3d5e2bf6",
   "metadata": {},
   "outputs": [
    {
     "name": "stdout",
     "output_type": "stream",
     "text": [
      "The Marks obtained by Student are English    80\n",
      "Science    93\n",
      "Social     78\n",
      "Tamil      85\n",
      "Maths      97\n",
      "dtype: int64\n"
     ]
    }
   ],
   "source": [
    "print (\"The Marks obtained by Student are\", s2)"
   ]
  },
  {
   "cell_type": "code",
   "execution_count": 21,
   "id": "36a58fa6-c808-4ca4-8209-c53b97d298bf",
   "metadata": {},
   "outputs": [],
   "source": [
    "# assign the s2 series name to be \"Student Marks\"\n",
    "\n",
    "# assign the s2 index name to be \"Subject\"\n",
    "s2.name='Student Marks'\n",
    "s2.index.name='Subject'"
   ]
  },
  {
   "cell_type": "code",
   "execution_count": 22,
   "id": "0ead4e61-9a2d-4efc-bdb6-aaaad033654f",
   "metadata": {},
   "outputs": [
    {
     "name": "stdout",
     "output_type": "stream",
     "text": [
      "The Marks obtained by student- subjectwise:\n",
      " Subject\n",
      "English    80\n",
      "Science    93\n",
      "Social     78\n",
      "Tamil      85\n",
      "Maths      97\n",
      "Name: Student Marks, dtype: int64\n"
     ]
    }
   ],
   "source": [
    "# print the s2 series again to see the newly assigned name and index name\n",
    "print(\"The Marks obtained by student- subjectwise:\\n\", s2)"
   ]
  },
  {
   "cell_type": "code",
   "execution_count": 11,
   "id": "fa73dcf8-8afb-4a9a-a11f-2549a078137d",
   "metadata": {},
   "outputs": [
    {
     "data": {
      "text/plain": [
       "80"
      ]
     },
     "execution_count": 11,
     "metadata": {},
     "output_type": "execute_result"
    }
   ],
   "source": [
    "# return the first element in the s2 series\n",
    "s2[0]"
   ]
  },
  {
   "cell_type": "code",
   "execution_count": 12,
   "id": "325c7f72-35e7-40cf-ab84-756ad241ba53",
   "metadata": {},
   "outputs": [
    {
     "data": {
      "text/plain": [
       "1    20\n",
       "2    30\n",
       "3    40\n",
       "dtype: int64"
      ]
     },
     "execution_count": 12,
     "metadata": {},
     "output_type": "execute_result"
    }
   ],
   "source": [
    "# slicing using default integer index\n",
    "# return the elements starting at position one and ending with the element at index 3\n",
    "s1[1:4]"
   ]
  },
  {
   "cell_type": "code",
   "execution_count": 13,
   "id": "47f1247d-bbbb-482b-b420-1e26c4acd7a8",
   "metadata": {},
   "outputs": [
    {
     "data": {
      "text/plain": [
       "85"
      ]
     },
     "execution_count": 13,
     "metadata": {},
     "output_type": "execute_result"
    }
   ],
   "source": [
    "# Slicing using string index\n",
    "# return the element associated with the index 'Tamil'\n",
    "s2['Tamil']"
   ]
  },
  {
   "cell_type": "code",
   "execution_count": 14,
   "id": "45435df4-49f1-4744-a08a-7e16d02424b6",
   "metadata": {},
   "outputs": [],
   "source": [
    "#Creating a Series from a Dictionary\n",
    "#•\tA Python dictionary is a data structure which maps keys to a set of values.\n",
    "#•\tA dictionary contains key-value pairs.\n",
    "#•\tA series is similar to a dictionary in a way that it maps given indexes to a set of values.\n",
    "#Let's see how to create a series from a dictionary\n",
    "#I have a dictionary that represents fruits and prices. Let's create a series from this dictionary#\n",
    "\n"
   ]
  },
  {
   "cell_type": "code",
   "execution_count": 15,
   "id": "e518a820-ab1f-41c1-8740-7df589d2e145",
   "metadata": {
    "tags": []
   },
   "outputs": [],
   "source": [
    "# create a dictionary of fruit names and their prices. Use the values from the article\n",
    "dict_fruits= { 'Orange':80,\n",
    "          'Apples':210,\n",
    "          'Bananas':50,\n",
    "         'Grapes':90,\n",
    "         'Watermelon':70}"
   ]
  },
  {
   "cell_type": "code",
   "execution_count": 16,
   "id": "f55a91ad-4954-44a7-ab9e-0dc9f049866f",
   "metadata": {},
   "outputs": [],
   "source": [
    "# Lets convert this dictionary into a series\n",
    "# use the pandas method .Series() \n",
    "fruits = pd.Series(dict_fruits)"
   ]
  },
  {
   "cell_type": "code",
   "execution_count": 17,
   "id": "e7ffad90-5e49-46bb-93ba-d6b66682f8b0",
   "metadata": {},
   "outputs": [
    {
     "name": "stdout",
     "output_type": "stream",
     "text": [
      "Fruits and prices\n",
      " Orange         80\n",
      "Apples        210\n",
      "Bananas        50\n",
      "Grapes         90\n",
      "Watermelon     70\n",
      "dtype: int64\n"
     ]
    }
   ],
   "source": [
    "# print the series\n",
    "print(\"Fruits and prices\\n\", fruits)"
   ]
  },
  {
   "cell_type": "code",
   "execution_count": 40,
   "id": "a4477e73-b2f8-472c-a8ce-d25455fceda0",
   "metadata": {},
   "outputs": [
    {
     "name": "stdout",
     "output_type": "stream",
     "text": [
      "The price per kg of grapes is: 90\n"
     ]
    }
   ],
   "source": [
    "# Slice the series and retrieve price of grapes\n",
    "print(\"The price per kg of grapes is:\", fruits['Grapes'])"
   ]
  },
  {
   "cell_type": "code",
   "execution_count": 58,
   "id": "7b8c6007-fb21-4609-b98f-5e8a7359ba42",
   "metadata": {},
   "outputs": [],
   "source": [
    "# create a dataframe from the s2 series\n",
    "df_marks = pd.DataFrame(s2)"
   ]
  },
  {
   "cell_type": "code",
   "execution_count": 59,
   "id": "3440fb09-d503-4471-8d68-5fb91c77b0c8",
   "metadata": {},
   "outputs": [
    {
     "name": "stdout",
     "output_type": "stream",
     "text": [
      "The dataframe created from series is\n",
      "          Student Marks\n",
      "Subject               \n",
      "English             80\n",
      "Science             93\n",
      "Social              78\n",
      "Tamil               85\n",
      "Maths               97\n"
     ]
    }
   ],
   "source": [
    "# print the dataframe\n",
    "print(\"The dataframe created from series is\\n\",df_marks)"
   ]
  },
  {
   "cell_type": "code",
   "execution_count": 30,
   "id": "4ce55704-083e-480d-9acd-44304b341f31",
   "metadata": {},
   "outputs": [],
   "source": [
    "# Create height series using [5.3, 6.2,5.8,5.0,5.5] for values, ['Person 1','Person 2','Person 3','Person 4','Person 5'] for indexes\n",
    "height = pd.Series([5.3, 6.2,5.8,5.0,5.5], index=['Person 1','Person 2','Person 3','Person 4','Person 5'])\n",
    "\n",
    "\n",
    "# Create weight series (in kgs) using [65,89,75,60,59] for values and the same indexes as height\n",
    "weight = pd.Series([65,89,75,60,59], index=['Person 1','Person 2','Person 3','Person 4','Person 5'])"
   ]
  },
  {
   "cell_type": "code",
   "execution_count": 48,
   "id": "1bd7b205-0443-454e-85d5-bcd9e5478aea",
   "metadata": {},
   "outputs": [
    {
     "name": "stdout",
     "output_type": "stream",
     "text": [
      "The Person table details are:\n",
      "           height  weight\n",
      "Person 1     5.3      65\n",
      "Person 2     6.2      89\n",
      "Person 3     5.8      75\n",
      "Person 4     5.0      60\n",
      "Person 5     5.5      59\n"
     ]
    }
   ],
   "source": [
    "# Create a dataframe from the height and weight series above\n",
    "df_Person = pd.DataFrame({'height': height, 'weight': weight})\n",
    "# print the dataframe\n",
    "print(\"The Person table details are:\\n\", df_Person)"
   ]
  },
  {
   "cell_type": "code",
   "execution_count": null,
   "id": "e4f7dd68-da6d-4e36-9c28-c4fe93f45c26",
   "metadata": {},
   "outputs": [],
   "source": []
  }
 ],
 "metadata": {
  "kernelspec": {
   "display_name": "anaconda-2022.05-py39",
   "language": "python",
   "name": "conda-env-anaconda-2022.05-py39-py"
  },
  "language_info": {
   "codemirror_mode": {
    "name": "ipython",
    "version": 3
   },
   "file_extension": ".py",
   "mimetype": "text/x-python",
   "name": "python",
   "nbconvert_exporter": "python",
   "pygments_lexer": "ipython3",
   "version": "3.9.12"
  },
  "toc-autonumbering": false,
  "toc-showcode": true,
  "toc-showmarkdowntxt": true,
  "toc-showtags": true
 },
 "nbformat": 4,
 "nbformat_minor": 5
}
